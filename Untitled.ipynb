{
 "cells": [
  {
   "cell_type": "code",
   "execution_count": 1,
   "id": "a4d505a2",
   "metadata": {},
   "outputs": [],
   "source": [
    "import cv2\n",
    "import matplotlib.pyplot as plt\n",
    "import numpy as np"
   ]
  },
  {
   "cell_type": "code",
   "execution_count": 2,
   "id": "dc34a58b",
   "metadata": {},
   "outputs": [],
   "source": [
    "original = cv2.imread('Lena.png')"
   ]
  },
  {
   "cell_type": "code",
   "execution_count": 24,
   "id": "000133ff",
   "metadata": {},
   "outputs": [],
   "source": [
    "cv2.imshow(\"original\", original)\n",
    "cv2.waitKey(0)\n",
    "cv2.destroyAllWindows()"
   ]
  },
  {
   "cell_type": "code",
   "execution_count": 12,
   "id": "7295e17d",
   "metadata": {},
   "outputs": [
    {
     "name": "stdout",
     "output_type": "stream",
     "text": [
      "0\n"
     ]
    }
   ],
   "source": [
    "mask_size = (25,25)\n",
    "anchor = (1,12)\n",
    "\n",
    "x_start = anchor[0] - (int)(mask_size[0]/2)\n",
    "y_start = anchor[1] - (int)(mask_size[1]/2)\n",
    "\n",
    "x_stop = x_start + mask_size[0]\n",
    "y_stop = y_start + mask_size[1]\n",
    "\n",
    "print(x_start)\n",
    "\n",
    "original1=original[y_start:y_stop, x_start:x_stop]\n",
    "cv2.imshow(\"Image with Mask\", original1)\n",
    "cv2.waitKey(0)\n",
    "cv2.destroyAllWindows()\n"
   ]
  },
  {
   "cell_type": "code",
   "execution_count": 30,
   "id": "c4aa49ef",
   "metadata": {},
   "outputs": [],
   "source": [
    "Laplacian = np.array([ \n",
    "[ 0, -1, 0], \n",
    "[-1, 4, -1], \n",
    "[ 0, -1, 0] ], dtype=np.float32)\n",
    "\n",
    "\n",
    "sharpened =cv2.filter2D(original, -1, Laplacian, borderType = cv2.BORDER_CONSTANT)\n",
    "cv2.imshow(\"sharpened\", sharpened)\n",
    "cv2.waitKey(0)\n",
    "cv2.destroyAllWindows()"
   ]
  },
  {
   "cell_type": "code",
   "execution_count": 34,
   "id": "2a716ccb",
   "metadata": {},
   "outputs": [],
   "source": [
    "Laplacian = np.array([ \n",
    "[-1, 0, -1], \n",
    "[ 3, 2, 2], \n",
    "[-1, 3, 4] ], dtype=np.float32)\n",
    "\n",
    "\n",
    "\n",
    "\n",
    "sharpened =cv2.filter2D(original, -1, Laplacian, borderType = cv2.BORDER_CONSTANT)\n",
    "cv2.imshow(\"sharpened\", sharpened)\n",
    "cv2.waitKey(0)\n",
    "cv2.destroyAllWindows()"
   ]
  },
  {
   "cell_type": "code",
   "execution_count": 44,
   "id": "b440543c",
   "metadata": {},
   "outputs": [],
   "source": [
    "blurred = cv2.GaussianBlur(original,(5,5),96)\n",
    "sharpened = cv2.addWeighted(original,2.5,blurred,-1.5,0)\n",
    "cv2.imshow(\"sharpened\", sharpened)\n",
    "cv2.waitKey(0)\n",
    "cv2.destroyAllWindows()"
   ]
  },
  {
   "cell_type": "code",
   "execution_count": null,
   "id": "5a423255",
   "metadata": {},
   "outputs": [],
   "source": []
  }
 ],
 "metadata": {
  "kernelspec": {
   "display_name": "Python 3 (ipykernel)",
   "language": "python",
   "name": "python3"
  },
  "language_info": {
   "codemirror_mode": {
    "name": "ipython",
    "version": 3
   },
   "file_extension": ".py",
   "mimetype": "text/x-python",
   "name": "python",
   "nbconvert_exporter": "python",
   "pygments_lexer": "ipython3",
   "version": "3.11.5"
  }
 },
 "nbformat": 4,
 "nbformat_minor": 5
}
